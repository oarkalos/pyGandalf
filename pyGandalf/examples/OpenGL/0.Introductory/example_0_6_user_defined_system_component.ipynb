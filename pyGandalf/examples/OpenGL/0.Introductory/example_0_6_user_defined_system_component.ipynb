{
 "cells": [
  {
   "cell_type": "markdown",
   "metadata": {},
   "source": [
    "In this tutorial, we will see what it takes to load and render an .obj model and interact with it using components and systems using the pyGanadalf API.\n",
    "-------------------------------------------------------------------------------------------------------------------------------------------------------"
   ]
  },
  {
   "cell_type": "markdown",
   "metadata": {},
   "source": [
    "Before doing anything else we need to import the nessasary packages"
   ]
  },
  {
   "cell_type": "code",
   "execution_count": null,
   "metadata": {},
   "outputs": [],
   "source": [
    "from pyGandalf.core.application import Application\n",
    "from pyGandalf.core.opengl_window import OpenGLWindow\n",
    "from pyGandalf.systems.system import System\n",
    "from pyGandalf.systems.transform_system import TransformSystem\n",
    "from pyGandalf.systems.camera_system import CameraSystem\n",
    "from pyGandalf.systems.light_system import LightSystem\n",
    "from pyGandalf.systems.opengl_rendering_system import OpenGLStaticMeshRenderingSystem\n",
    "\n",
    "from pyGandalf.renderer.opengl_renderer import OpenGLRenderer\n",
    "\n",
    "from pyGandalf.scene.entity import Entity\n",
    "from pyGandalf.scene.scene import Scene\n",
    "from pyGandalf.scene.components import *\n",
    "from pyGandalf.scene.scene_manager import SceneManager\n",
    "\n",
    "from pyGandalf.utilities.opengl_material_lib import OpenGLMaterialLib, MaterialData\n",
    "from pyGandalf.utilities.opengl_texture_lib import OpenGLTextureLib, TextureData\n",
    "from pyGandalf.utilities.opengl_shader_lib import OpenGLShaderLib\n",
    "from pyGandalf.utilities.mesh_lib import MeshLib\n",
    "\n",
    "from pyGandalf.utilities.definitions import SHADERS_PATH, MODELS_PATH\n",
    "\n",
    "import numpy as np\n",
    "import glm"
   ]
  },
  {
   "cell_type": "markdown",
   "metadata": {},
   "source": [
    "We are gonna create a component that acts like a name and a system that prints name and position every frame."
   ]
  },
  {
   "cell_type": "code",
   "execution_count": null,
   "metadata": {},
   "outputs": [],
   "source": [
    "class NameComponent(Component):\n",
    "    def __init__(self, name) -> None:\n",
    "        self.name = name"
   ]
  },
  {
   "cell_type": "markdown",
   "metadata": {},
   "source": [
    "NOTE: The order when unpacking components in the system code matters. We have to mach the order that was defined when creating the system, see code segment 21.\n",
    "The `NameComponent` is first and then there is the `TransformComponent` when creating it, so in the system we have to match that: `name, transform = components`"
   ]
  },
  {
   "cell_type": "code",
   "execution_count": null,
   "metadata": {},
   "outputs": [],
   "source": [
    "class NamePrinterSystem(System):\n",
    "    def on_create_entity(self, entity: Entity, components: Component | tuple[Component]):\n",
    "        name, transform = components\n",
    "        print(f'The entity with name: {name.name} is at position: [{transform.translation}]')"
   ]
  },
  {
   "cell_type": "markdown",
   "metadata": {},
   "source": [
    "First, we create a new application. To achieve this, we need to specify two main things:\n",
    "- The window\n",
    "  - We create an `OpenGLWindow` and we specify the name, width, height and vertical sync mode accordingly.\n",
    "- The renderer\n",
    "  - We specify that we will use the `OpenGLRenderer`."
   ]
  },
  {
   "cell_type": "code",
   "execution_count": null,
   "metadata": {},
   "outputs": [],
   "source": [
    "Application().create(OpenGLWindow('Model Loading with User Component and System', 1280, 720, True), OpenGLRenderer)"
   ]
  },
  {
   "cell_type": "markdown",
   "metadata": {},
   "source": [
    "Then, we build a texture, lets take a closer look at how this can be achieved.\n",
    "- 1. From the singleton class `OpenGLTextureLib` we call the `build` method to build our shader.\n",
    "- 2. We give our texture a name, in this case we chose: \"white_texture\".\n",
    "- 3. We provide the build function with the data and descriptor of the texture:\n",
    "  - TextureData: Holds the data of the texture. You can either give a path (or list of paths if cubemap) or the byte data to use when creating the texture and the width and height.\n",
    "  - TextureDescriptor: The description of the texture, which consists of various options and flags. Here, we dont set any options.\n",
    "  \n",
    "  In this example, we dont use an existing image as a texture, but we create one from the given bytes. More specifically, we create a 1 by 1 all white texture."
   ]
  },
  {
   "cell_type": "code",
   "execution_count": null,
   "metadata": {},
   "outputs": [],
   "source": [
    "OpenGLTextureLib().build('white_texture', TextureData(image_bytes=0xffffffff.to_bytes(4, byteorder='big'), width=1, height=1))"
   ]
  },
  {
   "cell_type": "markdown",
   "metadata": {},
   "source": [
    "Then, we build a shader, lets take a closer look at how this can be achieved.\n",
    "- 1. From the singleton class `OpenGLShaderLib` we call the `build` method to build our shader.\n",
    "- 2. We give our shader a name, in this case we chose: \"lit_blinn_phong\".\n",
    "- 3. We provide the build function with the path to the source code of the shader stages that we want our shader to utilize, in this case we use a vertext and fragment shader.\n",
    "    \n",
    "    In this example we create a simple shader that implements the Blinn-Phong shading method to shade the model that we will load."
   ]
  },
  {
   "cell_type": "code",
   "execution_count": null,
   "metadata": {},
   "outputs": [],
   "source": [
    "OpenGLShaderLib().build('lit_blinn_phong', SHADERS_PATH / 'opengl' / 'lit_blinn_phong.vs', SHADERS_PATH / 'opengl' / 'lit_blinn_phong.fs')"
   ]
  },
  {
   "cell_type": "markdown",
   "metadata": {},
   "source": [
    "Then, we build a material, lets take a closer look at how this can be achieved.\n",
    "- 1. From the singleton class `OpenGLMaterialLib` we call the `build` method to build our material.\n",
    "- 2. We give the material a name, in this case we chose: \"M_Bunny\".\n",
    "- 3. We give specify the desired data of the material through the `MaterialData` class.\n",
    "  - As the first argument, we give them shader name that we want to use, we give the name of the shader we created above, meaning: \"lit_blinn_phong\".\n",
    "  - The second argument is used to define which textures the material we use, in our case we use the 'white_texture' that we created before."
   ]
  },
  {
   "cell_type": "code",
   "execution_count": null,
   "metadata": {},
   "outputs": [],
   "source": [
    "OpenGLMaterialLib().build('M_Bunny', MaterialData('lit_blinn_phong', ['white_texture']))"
   ]
  },
  {
   "cell_type": "markdown",
   "metadata": {},
   "source": [
    "Now its time to load our model, lets take a closer look at how this can be achieved.\n",
    "- 1. From the singleton class `MeshLib`, we call the `build` method to build our mesh.\n",
    "- 2. We give the mesh a name, in this case we chose: \"bunny_mesh\".\n",
    "- 3. Then, we specify the path of the mesh that we want to load."
   ]
  },
  {
   "cell_type": "code",
   "execution_count": null,
   "metadata": {},
   "outputs": [],
   "source": [
    "MeshLib().build('bunny_mesh', MODELS_PATH / 'bunny.obj')"
   ]
  },
  {
   "cell_type": "markdown",
   "metadata": {},
   "source": [
    "We create a new scene by instatiating an object of the class `Scene`, we give it the name \"Bunny\"."
   ]
  },
  {
   "cell_type": "code",
   "execution_count": null,
   "metadata": {},
   "outputs": [],
   "source": [
    "scene = Scene('Model Loading with User Component and System')"
   ]
  },
  {
   "cell_type": "markdown",
   "metadata": {},
   "source": [
    "Then, we enroll a new entity to the scene by calling the `enroll_entity` method. This entity will represent our bunny."
   ]
  },
  {
   "cell_type": "code",
   "execution_count": null,
   "metadata": {},
   "outputs": [],
   "source": [
    "bunny = scene.enroll_entity()"
   ]
  },
  {
   "cell_type": "markdown",
   "metadata": {},
   "source": [
    "Now, its time to add components to our newly created entity, i.e.: `bunny`."
   ]
  },
  {
   "cell_type": "markdown",
   "metadata": {},
   "source": [
    "First, we using our `scene` and its `add_component` method, we add to the `triangle` entity, a `TransformComponent`.\n",
    "\n",
    "We when are creating the `TransformComponent`, we specify the translation, rotation and scale vectors."
   ]
  },
  {
   "cell_type": "code",
   "execution_count": null,
   "metadata": {},
   "outputs": [],
   "source": [
    "scene.add_component(bunny, TransformComponent(glm.vec3(0, 0, 0), glm.vec3(0, 0, 0), glm.vec3(1, 1, 1)))"
   ]
  },
  {
   "cell_type": "markdown",
   "metadata": {},
   "source": [
    "Then, we want to add a `StaticMeshComponent` component to the `bunny` entity.\n",
    "- We add the `StaticMeshComponent` specifying the name of the mesh that we want to load, we choose the \"bunny_mesh\" that we loaded above.\n",
    "- We dont need to specify any mesh data since they will all be retrieved from the mesh."
   ]
  },
  {
   "cell_type": "code",
   "execution_count": null,
   "metadata": {},
   "outputs": [],
   "source": [
    "scene.add_component(bunny, StaticMeshComponent('bunny_mesh'))"
   ]
  },
  {
   "cell_type": "markdown",
   "metadata": {},
   "source": [
    "Next, we have to add the `MaterialComponent`.\n",
    "\n",
    "We just have to give the name of the material we have built before, i.e.: \"M_Bunny\"."
   ]
  },
  {
   "cell_type": "code",
   "execution_count": null,
   "metadata": {},
   "outputs": [],
   "source": [
    "scene.add_component(bunny, MaterialComponent('M_Bunny'))"
   ]
  },
  {
   "cell_type": "markdown",
   "metadata": {},
   "source": [
    "Now, its time to add our custom component to the `bunny` entity."
   ]
  },
  {
   "cell_type": "code",
   "execution_count": null,
   "metadata": {},
   "outputs": [],
   "source": [
    "scene.add_component(bunny, NameComponent('Bunny'))"
   ]
  },
  {
   "cell_type": "markdown",
   "metadata": {},
   "source": [
    "Now, lets create a new entity in our scene, using the `enroll_entity` method, for the camera."
   ]
  },
  {
   "cell_type": "code",
   "execution_count": null,
   "metadata": {},
   "outputs": [],
   "source": [
    "camera = scene.enroll_entity()"
   ]
  },
  {
   "cell_type": "markdown",
   "metadata": {},
   "source": [
    "Then, using our `scene` and its `add_component` method, we add to the `camera` entity, a `TransformComponent`.\n",
    "\n",
    "We position the camera 3 meters back and 1 meters up."
   ]
  },
  {
   "cell_type": "code",
   "execution_count": null,
   "metadata": {},
   "outputs": [],
   "source": [
    "scene.add_component(camera, TransformComponent(glm.vec3(0, 1, 4), glm.vec3(0, 0, 0), glm.vec3(1, 1, 1)))"
   ]
  },
  {
   "cell_type": "markdown",
   "metadata": {},
   "source": [
    "Then, using our `scene` and its `add_component` method, we add to the `camera` entity, a `CameraComponent`.\n",
    "\n",
    "We provide the `CameraComponent` with the required data: field of view, aspect ratio, near plane, far plane and the type `CameraComponent.Type.PERSPECTIVE` or `CameraComponent.Type.ORTHOGRAPHIC`"
   ]
  },
  {
   "cell_type": "code",
   "execution_count": null,
   "metadata": {},
   "outputs": [],
   "source": [
    "scene.add_component(camera, CameraComponent(45, 1.778, 0.1, 1000, 1.2, CameraComponent.Type.PERSPECTIVE))"
   ]
  },
  {
   "cell_type": "markdown",
   "metadata": {},
   "source": [
    "Now, lets create a new entity in our scene, using the `enroll_entity` method, for the light."
   ]
  },
  {
   "cell_type": "code",
   "execution_count": null,
   "metadata": {},
   "outputs": [],
   "source": [
    "light = scene.enroll_entity()"
   ]
  },
  {
   "cell_type": "markdown",
   "metadata": {},
   "source": [
    "Using our `scene` and its `add_component` method, we add to the `light` entity, a `TransformComponent`."
   ]
  },
  {
   "cell_type": "code",
   "execution_count": null,
   "metadata": {},
   "outputs": [],
   "source": [
    "scene.add_component(light, TransformComponent(glm.vec3(0, 4, 0), glm.vec3(0, 0, 0), glm.vec3(1, 1, 1)))"
   ]
  },
  {
   "cell_type": "markdown",
   "metadata": {},
   "source": [
    "Then, using our `scene` and its `add_component` method, we add to the `light` entity, a `LightComponent`.\n",
    "\n",
    "We provide the `CameraComponent` with the required data: the color and the intensity."
   ]
  },
  {
   "cell_type": "code",
   "execution_count": null,
   "metadata": {},
   "outputs": [],
   "source": [
    "scene.add_component(light, LightComponent(glm.vec3(1.0, 1.0, 1.0), 0.75))"
   ]
  },
  {
   "cell_type": "markdown",
   "metadata": {},
   "source": [
    "Now that we have the components added to the entities, we have to register systems that we are gonna use to the scene.\n",
    "In this example we are using two systems:\n",
    "- `TransformSystem`\n",
    "- `CameraSystem`\n",
    "- `OpenGLStaticMeshRenderingSystem`\n",
    "- `NamePrinterSystem`\n",
    "\n",
    "When creating a system we have to provide to the constructor an array that holds the component(s) that the system operates on.\n",
    "\n",
    "Then the system uses these component(s) to filter all the entities that have them.\n",
    "- For example, the `TransformSystem` operates on all the entities that have a `TransformComponent`.\n",
    "  - The `NamePrinterSystem` operates on all the entities that have a `NameComponent` and a `TransformComponent`.\n",
    "  - Also, the `LightSystem` operates on all the entities that have a `LightComponent` and a `TransformComponent`.\n",
    "  - Similarly the `OpenGLStaticMeshRenderingSystem` operates on all the entities that have a `StaticMeshComponent`, a `MaterialComponent` and a `TransformComponent`.\n",
    "  - Finally, the `CameraSystem` operates on all the entities that have a `CameraComponent` and a `TransformComponent`.\n",
    "\n",
    "We can register them to the scene by calling the `register_system` method."
   ]
  },
  {
   "cell_type": "markdown",
   "metadata": {},
   "source": [
    "NOTE: The order of the filtered components of the `NamePrinterSystem` (`NamePrinterSystem([NameComponent, TransformComponent]`) matters when unpacking them in the system code.\n",
    "Here, `NameComponent` is first and then there is the `TransformComponent`, so in the system we have to match that: `name, transform = components`"
   ]
  },
  {
   "cell_type": "code",
   "execution_count": null,
   "metadata": {},
   "outputs": [],
   "source": [
    "scene.register_system(TransformSystem([TransformComponent]))\n",
    "scene.register_system(CameraSystem([CameraComponent, TransformComponent]))\n",
    "scene.register_system(LightSystem([LightComponent, TransformComponent]))\n",
    "scene.register_system(OpenGLStaticMeshRenderingSystem([StaticMeshComponent, MaterialComponent, TransformComponent]))\n",
    "scene.register_system(NamePrinterSystem([NameComponent, TransformComponent]))"
   ]
  },
  {
   "cell_type": "markdown",
   "metadata": {},
   "source": [
    "Now that our scene has all the entites, components and systems added we can add it to the `SceneManager` by calling the `add_scene` method."
   ]
  },
  {
   "cell_type": "code",
   "execution_count": null,
   "metadata": {},
   "outputs": [],
   "source": [
    "SceneManager().add_scene(scene)"
   ]
  },
  {
   "cell_type": "markdown",
   "metadata": {},
   "source": [
    "Finally, we can start the `Application` by calling the `start` method."
   ]
  },
  {
   "cell_type": "code",
   "execution_count": null,
   "metadata": {},
   "outputs": [],
   "source": [
    "Application().start()"
   ]
  }
 ],
 "metadata": {
  "kernelspec": {
   "display_name": "pyGandalf-venv",
   "language": "python",
   "name": "python3"
  },
  "language_info": {
   "codemirror_mode": {
    "name": "ipython",
    "version": 3
   },
   "file_extension": ".py",
   "mimetype": "text/x-python",
   "name": "python",
   "nbconvert_exporter": "python",
   "pygments_lexer": "ipython3",
   "version": "3.10.11"
  }
 },
 "nbformat": 4,
 "nbformat_minor": 2
}
