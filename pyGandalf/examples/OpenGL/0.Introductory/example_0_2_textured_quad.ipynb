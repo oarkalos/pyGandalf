{
 "cells": [
  {
   "cell_type": "markdown",
   "metadata": {},
   "source": [
    "In this tutorial we will see what it takes to render a textured quad using the pyGanadalf API.\n",
    "----------------------------------------------------------------------------------------------"
   ]
  },
  {
   "cell_type": "markdown",
   "metadata": {},
   "source": [
    "Before doing anything else we need to import the nessasary packages"
   ]
  },
  {
   "cell_type": "code",
   "execution_count": 15,
   "metadata": {},
   "outputs": [],
   "source": [
    "from pyGandalf.core.application import Application\n",
    "from pyGandalf.core.opengl_window import OpenGLWindow\n",
    "from pyGandalf.systems.transform_system import TransformSystem\n",
    "from pyGandalf.systems.opengl_rendering_system import OpenGLStaticMeshRenderingSystem\n",
    "\n",
    "from pyGandalf.renderer.opengl_renderer import OpenGLRenderer\n",
    "\n",
    "from pyGandalf.scene.scene import Scene\n",
    "from pyGandalf.scene.components import *\n",
    "from pyGandalf.scene.scene_manager import SceneManager\n",
    "\n",
    "from pyGandalf.utilities.opengl_material_lib import OpenGLMaterialLib, MaterialData\n",
    "from pyGandalf.utilities.opengl_texture_lib import OpenGLTextureLib, TextureData, TextureDescriptor\n",
    "from pyGandalf.utilities.opengl_shader_lib import OpenGLShaderLib\n",
    "\n",
    "from pyGandalf.utilities.definitions import SHADERS_PATH, TEXTURES_PATH\n",
    "\n",
    "import numpy as np\n",
    "import glm"
   ]
  },
  {
   "cell_type": "markdown",
   "metadata": {},
   "source": [
    "First, we create a new application. To achieve this, we need to specify two main things:\n",
    "- The window\n",
    "  - We create an `OpenGLWindow` and we specify the name, width, height and vertical sync mode accordingly.\n",
    "- The renderer\n",
    "  - We specify that we will use the `OpenGLRenderer`."
   ]
  },
  {
   "cell_type": "code",
   "execution_count": 16,
   "metadata": {},
   "outputs": [],
   "source": [
    "Application().create(OpenGLWindow('Textured Quad', 1280, 720, True), OpenGLRenderer)"
   ]
  },
  {
   "cell_type": "markdown",
   "metadata": {},
   "source": [
    "Then, we build a texture, lets take a closer look at how this can be achieved.\n",
    "- 1. From the singleton class `OpenGLTextureLib` we call the `build` method to build our shader.\n",
    "- 2. We give our texture a name, in this case we chose: \"uoc_logo\".\n",
    "- 3. We provide the build function with the data and descriptor of the texture\n",
    "  - TextureData: Holds the data of the texture. You can either give a path (or list of paths if cubemap) or the byte data to use when creating the texture and the width and height.\n",
    "  - TextureDescriptor: The description of the texture, which consists of various options and flags. Here, we specify that we want to flip the texture."
   ]
  },
  {
   "cell_type": "code",
   "execution_count": 17,
   "metadata": {},
   "outputs": [
    {
     "data": {
      "text/plain": [
       "0"
      ]
     },
     "execution_count": 17,
     "metadata": {},
     "output_type": "execute_result"
    }
   ],
   "source": [
    "OpenGLTextureLib().build('uoc_logo', TextureData(path=TEXTURES_PATH / 'uoc_logo.png'), TextureDescriptor(flip=True))"
   ]
  },
  {
   "cell_type": "markdown",
   "metadata": {},
   "source": [
    "Then we build a shader, lets take a closer look at how this can be achieved.\n",
    "- 1. From the singleton class `OpenGLShaderLib` we call the `build` method to build our shader.\n",
    "- 2. We give our shader a name, in this case we chose: \"unlit_textured\".\n",
    "- 3. We provide the build function with the path to the source code of the shader stages that we want our shader to utilize, in this case we use a vertext and fragment shader."
   ]
  },
  {
   "cell_type": "code",
   "execution_count": 18,
   "metadata": {},
   "outputs": [
    {
     "data": {
      "text/plain": [
       "3"
      ]
     },
     "execution_count": 18,
     "metadata": {},
     "output_type": "execute_result"
    }
   ],
   "source": [
    "OpenGLShaderLib().build('unlit_textured', SHADERS_PATH / 'opengl' / 'unlit_textured.vs', SHADERS_PATH / 'opengl' / 'unlit_textured.fs')"
   ]
  },
  {
   "cell_type": "markdown",
   "metadata": {},
   "source": [
    "Then we build a material, lets take a closer look at how this can be achieved.\n",
    "- 1. From the singleton class `OpenGLMaterialLib` we call the `build` method to build our material.\n",
    "- 2. We give the material a name, in this case we chose: \"M_Unlit\".\n",
    "- 3. We give specify the desired data of the material through the `MaterialData` class.\n",
    "  - As the first argument, we give them shader name that we want to use, we give the name of the shader we created above, meaning: \"unlit_textured\".\n",
    "  - The second argument is used to define which textures the material we use, so we add the name of the texture we created above i.e.: \"uoc_logo\"."
   ]
  },
  {
   "cell_type": "code",
   "execution_count": 19,
   "metadata": {},
   "outputs": [
    {
     "data": {
      "text/plain": [
       "<pyGandalf.utilities.opengl_material_lib.MaterialInstance at 0x2b14a63f760>"
      ]
     },
     "execution_count": 19,
     "metadata": {},
     "output_type": "execute_result"
    }
   ],
   "source": [
    "OpenGLMaterialLib().build('M_UnlitTextured', MaterialData('unlit_textured', ['uoc_logo']))"
   ]
  },
  {
   "cell_type": "markdown",
   "metadata": {},
   "source": [
    "We create a new scene by instatiating an object of the class `Scene`, we give it the name \"Textured Quad\"."
   ]
  },
  {
   "cell_type": "code",
   "execution_count": 20,
   "metadata": {},
   "outputs": [],
   "source": [
    "scene = Scene('Textured Quad')"
   ]
  },
  {
   "cell_type": "markdown",
   "metadata": {},
   "source": [
    "Then, we enroll a new entity to the scene by calling the `enroll_entity` method. This entity will represent our quad."
   ]
  },
  {
   "cell_type": "code",
   "execution_count": 21,
   "metadata": {},
   "outputs": [],
   "source": [
    "quad = scene.enroll_entity()"
   ]
  },
  {
   "cell_type": "markdown",
   "metadata": {},
   "source": [
    "Now, its time to add components to our newly created entity, i.e.: `quad`."
   ]
  },
  {
   "cell_type": "markdown",
   "metadata": {},
   "source": [
    "First, we using our `scene` and its `add_component` method, we add to the `quad` entity, a `TransformComponent`.\n",
    "\n",
    "We when are creating the `TransformComponent`, we specify the translation, rotation and scale vectors."
   ]
  },
  {
   "cell_type": "code",
   "execution_count": 22,
   "metadata": {},
   "outputs": [
    {
     "data": {
      "text/plain": [
       "<pyGandalf.scene.components.TransformComponent at 0x2b1444cdab0>"
      ]
     },
     "execution_count": 22,
     "metadata": {},
     "output_type": "execute_result"
    }
   ],
   "source": [
    "scene.add_component(quad, TransformComponent(glm.vec3(0, 0, 0), glm.vec3(0, 0, 0), glm.vec3(1, 1, 1)))"
   ]
  },
  {
   "cell_type": "markdown",
   "metadata": {},
   "source": [
    "Then, we want to add a `StaticMeshComponent` component to the `triangle` entity.\n",
    "\n",
    "But first we need to specify the vertex data of the quad, we can do that by using numpy arrays like this:"
   ]
  },
  {
   "cell_type": "code",
   "execution_count": 23,
   "metadata": {},
   "outputs": [],
   "source": [
    "vertices = np.array([\n",
    "    [-0.5, -0.5, 0.0], # 0 - Bottom left corner\n",
    "    [ 0.5, -0.5, 0.0], # 1 - Bottom right corner\n",
    "    [ 0.5,  0.5, 0.0], # 2 - Top right corner\n",
    "    [ 0.5,  0.5, 0.0], # 2 - Top right corner\n",
    "    [-0.5,  0.5, 0.0], # 3 - Top left corner\n",
    "    [-0.5, -0.5, 0.0]  # 0 - Bottom left corner\n",
    "], dtype=np.float32)\n",
    "\n",
    "# Texture coordinates of the quad\n",
    "texture_coords = np.array([\n",
    "    [0.0, 1.0], # 0\n",
    "    [1.0, 1.0], # 1\n",
    "    [1.0, 0.0], # 2\n",
    "    [1.0, 0.0], # 2\n",
    "    [0.0, 0.0], # 3\n",
    "    [0.0, 1.0]  # 0\n",
    "], dtype=np.float32)"
   ]
  },
  {
   "cell_type": "markdown",
   "metadata": {},
   "source": [
    "Then, we add the `StaticMeshComponent` specifying a name, we chose \"triangle\" in this case.\n",
    "\n",
    "Then, we specify in an array all the vertex data, in our case we have the vertices and texture coordinates that we created above."
   ]
  },
  {
   "cell_type": "code",
   "execution_count": 24,
   "metadata": {},
   "outputs": [
    {
     "data": {
      "text/plain": [
       "<pyGandalf.scene.components.StaticMeshComponent at 0x2b14a63fe80>"
      ]
     },
     "execution_count": 24,
     "metadata": {},
     "output_type": "execute_result"
    }
   ],
   "source": [
    "scene.add_component(quad, StaticMeshComponent('quad', [vertices, texture_coords]))"
   ]
  },
  {
   "cell_type": "markdown",
   "metadata": {},
   "source": [
    "The last component that we need in our example is the `MaterialComponent`.\n",
    "\n",
    "We just have to give the name of the material we have built before, i.e.: \"M_Unlit\"."
   ]
  },
  {
   "cell_type": "code",
   "execution_count": 25,
   "metadata": {},
   "outputs": [
    {
     "data": {
      "text/plain": [
       "<pyGandalf.scene.components.MaterialComponent at 0x2b12aed00d0>"
      ]
     },
     "execution_count": 25,
     "metadata": {},
     "output_type": "execute_result"
    }
   ],
   "source": [
    "scene.add_component(quad, MaterialComponent('M_UnlitTextured'))"
   ]
  },
  {
   "cell_type": "markdown",
   "metadata": {},
   "source": [
    "Now that we have the components added to the entities, we have to register systems that we are gonna use to the scene.\n",
    "In this example we are using two systems:\n",
    "- `TransformSystem`\n",
    "- `OpenGLStaticMeshRenderingSystem`\n",
    "\n",
    "When creating a system we have to provide to the constructor an array that holds the component(s) that the system operates on.\n",
    "\n",
    "Then the system uses these component(s) to filter all the entities that have them.\n",
    "- For example, the `TransformSystem` operates on all the entities that have a `TransformComponent`, similarly the `OpenGLStaticMeshRenderingSystem` operates on all the entities that have a `StaticMeshComponent`, a `MaterialComponent` and a `TransformComponent`.\n",
    "\n",
    "We can register them to the scene by calling the `register_system` method."
   ]
  },
  {
   "cell_type": "code",
   "execution_count": 26,
   "metadata": {},
   "outputs": [
    {
     "ename": "GLError",
     "evalue": "GLError(\n\terr = 1282,\n\tdescription = b'invalid operation',\n\tbaseOperation = glBindTexture,\n\tcArguments = (GL_TEXTURE_2D, 2)\n)",
     "output_type": "error",
     "traceback": [
      "\u001b[1;31m---------------------------------------------------------------------------\u001b[0m",
      "\u001b[1;31mGLError\u001b[0m                                   Traceback (most recent call last)",
      "Cell \u001b[1;32mIn[26], line 2\u001b[0m\n\u001b[0;32m      1\u001b[0m scene\u001b[38;5;241m.\u001b[39mregister_system(TransformSystem([TransformComponent]))\n\u001b[1;32m----> 2\u001b[0m \u001b[43mscene\u001b[49m\u001b[38;5;241;43m.\u001b[39;49m\u001b[43mregister_system\u001b[49m\u001b[43m(\u001b[49m\u001b[43mOpenGLStaticMeshRenderingSystem\u001b[49m\u001b[43m(\u001b[49m\u001b[43m[\u001b[49m\u001b[43mStaticMeshComponent\u001b[49m\u001b[43m,\u001b[49m\u001b[43m \u001b[49m\u001b[43mMaterialComponent\u001b[49m\u001b[43m,\u001b[49m\u001b[43m \u001b[49m\u001b[43mTransformComponent\u001b[49m\u001b[43m]\u001b[49m\u001b[43m)\u001b[49m\u001b[43m)\u001b[49m\n",
      "File \u001b[1;32mc:\\dev\\pygandalf\\pyGandalf\\scene\\scene.py:209\u001b[0m, in \u001b[0;36mScene.register_system\u001b[1;34m(self, system)\u001b[0m\n\u001b[0;32m    206\u001b[0m \u001b[38;5;28;01mfrom\u001b[39;00m \u001b[38;5;21;01mpyGandalf\u001b[39;00m\u001b[38;5;21;01m.\u001b[39;00m\u001b[38;5;21;01mcore\u001b[39;00m\u001b[38;5;21;01m.\u001b[39;00m\u001b[38;5;21;01mapplication\u001b[39;00m \u001b[38;5;28;01mimport\u001b[39;00m Application\n\u001b[0;32m    208\u001b[0m \u001b[38;5;28;01mif\u001b[39;00m (Application()\u001b[38;5;241m.\u001b[39mis_running()):\n\u001b[1;32m--> 209\u001b[0m     \u001b[43msystem\u001b[49m\u001b[38;5;241;43m.\u001b[39;49m\u001b[43mon_create_base\u001b[49m\u001b[43m(\u001b[49m\u001b[43m)\u001b[49m\n",
      "File \u001b[1;32mc:\\dev\\pygandalf\\pyGandalf\\systems\\system.py:103\u001b[0m, in \u001b[0;36mSystem.on_create_base\u001b[1;34m(self)\u001b[0m\n\u001b[0;32m    100\u001b[0m \u001b[38;5;250m\u001b[39m\u001b[38;5;124;03m\"\"\"Calls the `on_create_entity` and `on_create_system` method of the system for each entity and its filtered components.\u001b[39;00m\n\u001b[0;32m    101\u001b[0m \u001b[38;5;124;03m\"\"\"\u001b[39;00m\n\u001b[0;32m    102\u001b[0m \u001b[38;5;28;01mif\u001b[39;00m \u001b[38;5;28mself\u001b[39m\u001b[38;5;241m.\u001b[39mstate \u001b[38;5;129;01mis\u001b[39;00m SystemState\u001b[38;5;241m.\u001b[39mPLAY:\n\u001b[1;32m--> 103\u001b[0m     \u001b[38;5;28;43mself\u001b[39;49m\u001b[38;5;241;43m.\u001b[39;49m\u001b[43mon_create_system\u001b[49m\u001b[43m(\u001b[49m\u001b[43m)\u001b[49m\n\u001b[0;32m    105\u001b[0m \u001b[38;5;28;01mif\u001b[39;00m \u001b[38;5;28mself\u001b[39m\u001b[38;5;241m.\u001b[39mstate \u001b[38;5;129;01mis\u001b[39;00m SystemState\u001b[38;5;241m.\u001b[39mPLAY:\n\u001b[0;32m    106\u001b[0m     \u001b[38;5;28;01mfor\u001b[39;00m entity, components \u001b[38;5;129;01min\u001b[39;00m \u001b[38;5;28mzip\u001b[39m(\u001b[38;5;28mself\u001b[39m\u001b[38;5;241m.\u001b[39mfiltered_entities, \u001b[38;5;28mself\u001b[39m\u001b[38;5;241m.\u001b[39mfiltered_components):\n",
      "File \u001b[1;32mc:\\dev\\pygandalf\\pyGandalf\\systems\\opengl_rendering_system.py:43\u001b[0m, in \u001b[0;36mOpenGLStaticMeshRenderingSystem.on_create_system\u001b[1;34m(self)\u001b[0m\n\u001b[0;32m     40\u001b[0m OpenGLTextureLib()\u001b[38;5;241m.\u001b[39mbuild(\u001b[38;5;124m'\u001b[39m\u001b[38;5;124mdepth_texture\u001b[39m\u001b[38;5;124m'\u001b[39m, TextureData(image_bytes\u001b[38;5;241m=\u001b[39m\u001b[38;5;28;01mNone\u001b[39;00m, width\u001b[38;5;241m=\u001b[39m\u001b[38;5;28mself\u001b[39m\u001b[38;5;241m.\u001b[39mSHADOW_WIDTH, height\u001b[38;5;241m=\u001b[39m\u001b[38;5;28mself\u001b[39m\u001b[38;5;241m.\u001b[39mSHADOW_WIDTH), descriptor\u001b[38;5;241m=\u001b[39mdepth_texture_descriptor)\n\u001b[0;32m     41\u001b[0m depth_texture_id \u001b[38;5;241m=\u001b[39m OpenGLTextureLib()\u001b[38;5;241m.\u001b[39mget_id(\u001b[38;5;124m'\u001b[39m\u001b[38;5;124mdepth_texture\u001b[39m\u001b[38;5;124m'\u001b[39m)\n\u001b[1;32m---> 43\u001b[0m \u001b[43mgl\u001b[49m\u001b[38;5;241;43m.\u001b[39;49m\u001b[43mglBindTexture\u001b[49m\u001b[43m(\u001b[49m\u001b[43mgl\u001b[49m\u001b[38;5;241;43m.\u001b[39;49m\u001b[43mGL_TEXTURE_2D\u001b[49m\u001b[43m,\u001b[49m\u001b[43m \u001b[49m\u001b[43mdepth_texture_id\u001b[49m\u001b[43m)\u001b[49m\n\u001b[0;32m     45\u001b[0m gl\u001b[38;5;241m.\u001b[39mglBindFramebuffer(gl\u001b[38;5;241m.\u001b[39mGL_FRAMEBUFFER, \u001b[38;5;28mself\u001b[39m\u001b[38;5;241m.\u001b[39mframebuffer_id)\n\u001b[0;32m     46\u001b[0m gl\u001b[38;5;241m.\u001b[39mglFramebufferTexture2D(gl\u001b[38;5;241m.\u001b[39mGL_FRAMEBUFFER, gl\u001b[38;5;241m.\u001b[39mGL_DEPTH_ATTACHMENT, gl\u001b[38;5;241m.\u001b[39mGL_TEXTURE_2D, depth_texture_id, \u001b[38;5;241m0\u001b[39m)\n",
      "File \u001b[1;32mc:\\dev\\pyGandalf\\pyGandalf-venv\\lib\\site-packages\\OpenGL\\error.py:230\u001b[0m, in \u001b[0;36m_ErrorChecker.glCheckError\u001b[1;34m(self, result, baseOperation, cArguments, *args)\u001b[0m\n\u001b[0;32m    228\u001b[0m err \u001b[38;5;241m=\u001b[39m \u001b[38;5;28mself\u001b[39m\u001b[38;5;241m.\u001b[39m_currentChecker()\n\u001b[0;32m    229\u001b[0m \u001b[38;5;28;01mif\u001b[39;00m err \u001b[38;5;241m!=\u001b[39m \u001b[38;5;28mself\u001b[39m\u001b[38;5;241m.\u001b[39m_noErrorResult:\n\u001b[1;32m--> 230\u001b[0m     \u001b[38;5;28;01mraise\u001b[39;00m \u001b[38;5;28mself\u001b[39m\u001b[38;5;241m.\u001b[39m_errorClass(\n\u001b[0;32m    231\u001b[0m         err,\n\u001b[0;32m    232\u001b[0m         result,\n\u001b[0;32m    233\u001b[0m         cArguments \u001b[38;5;241m=\u001b[39m cArguments,\n\u001b[0;32m    234\u001b[0m         baseOperation \u001b[38;5;241m=\u001b[39m baseOperation,\n\u001b[0;32m    235\u001b[0m     )\n\u001b[0;32m    236\u001b[0m \u001b[38;5;28;01mreturn\u001b[39;00m result\n",
      "\u001b[1;31mGLError\u001b[0m: GLError(\n\terr = 1282,\n\tdescription = b'invalid operation',\n\tbaseOperation = glBindTexture,\n\tcArguments = (GL_TEXTURE_2D, 2)\n)"
     ]
    },
    {
     "ename": "",
     "evalue": "",
     "output_type": "error",
     "traceback": [
      "\u001b[1;31mThe Kernel crashed while executing code in the current cell or a previous cell. \n",
      "\u001b[1;31mPlease review the code in the cell(s) to identify a possible cause of the failure. \n",
      "\u001b[1;31mClick <a href='https://aka.ms/vscodeJupyterKernelCrash'>here</a> for more info. \n",
      "\u001b[1;31mView Jupyter <a href='command:jupyter.viewOutput'>log</a> for further details."
     ]
    }
   ],
   "source": [
    "scene.register_system(TransformSystem([TransformComponent]))\n",
    "scene.register_system(OpenGLStaticMeshRenderingSystem([StaticMeshComponent, MaterialComponent, TransformComponent]))"
   ]
  },
  {
   "cell_type": "markdown",
   "metadata": {},
   "source": [
    "Now that our scene has all the entites, components and systems added we can add it to the `SceneManager` by calling the `add_scene` method."
   ]
  },
  {
   "cell_type": "code",
   "execution_count": null,
   "metadata": {},
   "outputs": [],
   "source": [
    "SceneManager().add_scene(scene)"
   ]
  },
  {
   "cell_type": "markdown",
   "metadata": {},
   "source": [
    "Finally, we can start the `Application` by calling the `start` method."
   ]
  },
  {
   "cell_type": "code",
   "execution_count": null,
   "metadata": {},
   "outputs": [],
   "source": [
    "Application().start()"
   ]
  }
 ],
 "metadata": {
  "kernelspec": {
   "display_name": "pyGandalf-venv",
   "language": "python",
   "name": "python3"
  },
  "language_info": {
   "codemirror_mode": {
    "name": "ipython",
    "version": 3
   },
   "file_extension": ".py",
   "mimetype": "text/x-python",
   "name": "python",
   "nbconvert_exporter": "python",
   "pygments_lexer": "ipython3",
   "version": "3.10.11"
  }
 },
 "nbformat": 4,
 "nbformat_minor": 2
}
