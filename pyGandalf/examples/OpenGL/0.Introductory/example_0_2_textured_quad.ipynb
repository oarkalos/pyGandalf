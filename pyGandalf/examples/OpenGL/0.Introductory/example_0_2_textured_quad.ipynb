{
 "cells": [
  {
   "cell_type": "markdown",
   "metadata": {},
   "source": [
    "In this tutorial we will see what it takes to render a textured quad using the pyGanadalf API.\n",
    "----------------------------------------------------------------------------------------------"
   ]
  },
  {
   "cell_type": "markdown",
   "metadata": {},
   "source": [
    "Before doing anything else we need to import the nessasary packages"
   ]
  },
  {
   "cell_type": "code",
   "execution_count": 1,
   "metadata": {},
   "outputs": [],
   "source": [
    "from pyGandalf.core.application import Application\n",
    "from pyGandalf.core.opengl_window import OpenGLWindow\n",
    "from pyGandalf.systems.transform_system import TransformSystem\n",
    "from pyGandalf.systems.opengl_rendering_system import OpenGLStaticMeshRenderingSystem\n",
    "\n",
    "from pyGandalf.renderer.opengl_renderer import OpenGLRenderer\n",
    "\n",
    "from pyGandalf.scene.scene import Scene\n",
    "from pyGandalf.scene.components import *\n",
    "from pyGandalf.scene.scene_manager import SceneManager\n",
    "\n",
    "from pyGandalf.utilities.opengl_material_lib import OpenGLMaterialLib, MaterialData\n",
    "from pyGandalf.utilities.opengl_texture_lib import OpenGLTextureLib, TextureData, TextureDescriptor\n",
    "from pyGandalf.utilities.opengl_shader_lib import OpenGLShaderLib\n",
    "\n",
    "from pyGandalf.utilities.definitions import SHADERS_PATH, TEXTURES_PATH\n",
    "\n",
    "import numpy as np\n",
    "import glm"
   ]
  },
  {
   "cell_type": "markdown",
   "metadata": {},
   "source": [
    "First, we create a new application. To achieve this, we need to specify two main things:\n",
    "- The window\n",
    "  - We create an `OpenGLWindow` and we specify the name, width, height and vertical sync mode accordingly.\n",
    "- The renderer\n",
    "  - We specify that we will use the `OpenGLRenderer`."
   ]
  },
  {
   "cell_type": "code",
   "execution_count": 2,
   "metadata": {},
   "outputs": [],
   "source": [
    "Application().create(OpenGLWindow('Textured Quad', 1280, 720, True), OpenGLRenderer)"
   ]
  },
  {
   "cell_type": "markdown",
   "metadata": {},
   "source": [
    "Then, we build a texture, lets take a closer look at how this can be achieved.\n",
    "- 1. From the singleton class `OpenGLTextureLib` we call the `build` method to build our shader.\n",
    "- 2. We give our texture a name, in this case we chose: \"uoc_logo\".\n",
    "- 3. We provide the build function with the data and descriptor of the texture\n",
    "  - TextureData: Holds the data of the texture. You can either give a path (or list of paths if cubemap) or the byte data to use when creating the texture and the width and height.\n",
    "  - TextureDescriptor: The description of the texture, which consists of various options and flags. Here, we specify that we want to flip the texture."
   ]
  },
  {
   "cell_type": "code",
   "execution_count": 3,
   "metadata": {},
   "outputs": [
    {
     "data": {
      "text/plain": [
       "0"
      ]
     },
     "execution_count": 3,
     "metadata": {},
     "output_type": "execute_result"
    }
   ],
   "source": [
    "OpenGLTextureLib().build('uoc_logo', TextureData(path=TEXTURES_PATH / 'uoc_logo.png'), TextureDescriptor(flip=True))"
   ]
  },
  {
   "cell_type": "markdown",
   "metadata": {},
   "source": [
    "Then we build a shader, lets take a closer look at how this can be achieved.\n",
    "- 1. From the singleton class `OpenGLShaderLib` we call the `build` method to build our shader.\n",
    "- 2. We give our shader a name, in this case we chose: \"unlit_textured\".\n",
    "- 3. We provide the build function with the path to the source code of the shader stages that we want our shader to utilize, in this case we use a vertext and fragment shader."
   ]
  },
  {
   "cell_type": "code",
   "execution_count": 4,
   "metadata": {},
   "outputs": [
    {
     "data": {
      "text/plain": [
       "3"
      ]
     },
     "execution_count": 4,
     "metadata": {},
     "output_type": "execute_result"
    }
   ],
   "source": [
    "OpenGLShaderLib().build('unlit_textured', SHADERS_PATH / 'opengl' / 'unlit_textured.vs', SHADERS_PATH / 'opengl' / 'unlit_textured.fs')"
   ]
  },
  {
   "cell_type": "markdown",
   "metadata": {},
   "source": [
    "Then we build a material, lets take a closer look at how this can be achieved.\n",
    "- 1. From the singleton class `OpenGLMaterialLib` we call the `build` method to build our material.\n",
    "- 2. We give the material a name, in this case we chose: \"M_Unlit\".\n",
    "- 3. We give specify the desired data of the material through the `MaterialData` class.\n",
    "  - As the first argument, we give them shader name that we want to use, we give the name of the shader we created above, meaning: \"unlit_textured\".\n",
    "  - The second argument is used to define which textures the material we use, so we add the name of the texture we created above i.e.: \"uoc_logo\"."
   ]
  },
  {
   "cell_type": "code",
   "execution_count": 5,
   "metadata": {},
   "outputs": [
    {
     "data": {
      "text/plain": [
       "<pyGandalf.utilities.opengl_material_lib.MaterialInstance at 0x26577957cd0>"
      ]
     },
     "execution_count": 5,
     "metadata": {},
     "output_type": "execute_result"
    }
   ],
   "source": [
    "OpenGLMaterialLib().build('M_UnlitTextured', MaterialData('unlit_textured', ['uoc_logo']))"
   ]
  },
  {
   "cell_type": "markdown",
   "metadata": {},
   "source": [
    "We create a new scene by instatiating an object of the class `Scene`, we give it the name \"Textured Quad\"."
   ]
  },
  {
   "cell_type": "code",
   "execution_count": 6,
   "metadata": {},
   "outputs": [],
   "source": [
    "scene = Scene('Textured Quad')"
   ]
  },
  {
   "cell_type": "markdown",
   "metadata": {},
   "source": [
    "Then, we enroll a new entity to the scene by calling the `enroll_entity` method. This entity will represent our quad."
   ]
  },
  {
   "cell_type": "code",
   "execution_count": 7,
   "metadata": {},
   "outputs": [],
   "source": [
    "quad = scene.enroll_entity()"
   ]
  },
  {
   "cell_type": "markdown",
   "metadata": {},
   "source": [
    "Now, its time to add components to our newly created entity, i.e.: `quad`."
   ]
  },
  {
   "cell_type": "markdown",
   "metadata": {},
   "source": [
    "First, we using our `scene` and its `add_component` method, we add to the `quad` entity, a `TransformComponent`.\n",
    "\n",
    "We when are creating the `TransformComponent`, we specify the translation, rotation and scale vectors."
   ]
  },
  {
   "cell_type": "code",
   "execution_count": 8,
   "metadata": {},
   "outputs": [
    {
     "data": {
      "text/plain": [
       "<pyGandalf.scene.components.TransformComponent at 0x26577957d60>"
      ]
     },
     "execution_count": 8,
     "metadata": {},
     "output_type": "execute_result"
    }
   ],
   "source": [
    "scene.add_component(quad, TransformComponent(glm.vec3(0, 0, 0), glm.vec3(0, 0, 0), glm.vec3(1, 1, 1)))"
   ]
  },
  {
   "cell_type": "markdown",
   "metadata": {},
   "source": [
    "Then, we want to add a `StaticMeshComponent` component to the `triangle` entity.\n",
    "\n",
    "But first we need to specify the vertex data of the quad, we can do that by using numpy arrays like this:"
   ]
  },
  {
   "cell_type": "code",
   "execution_count": 9,
   "metadata": {},
   "outputs": [],
   "source": [
    "vertices = np.array([\n",
    "    [-0.5, -0.5, 0.0], # 0 - Bottom left corner\n",
    "    [ 0.5, -0.5, 0.0], # 1 - Bottom right corner\n",
    "    [ 0.5,  0.5, 0.0], # 2 - Top right corner\n",
    "    [ 0.5,  0.5, 0.0], # 2 - Top right corner\n",
    "    [-0.5,  0.5, 0.0], # 3 - Top left corner\n",
    "    [-0.5, -0.5, 0.0]  # 0 - Bottom left corner\n",
    "], dtype=np.float32)\n",
    "\n",
    "# Texture coordinates of the quad\n",
    "texture_coords = np.array([\n",
    "    [0.0, 1.0], # 0\n",
    "    [1.0, 1.0], # 1\n",
    "    [1.0, 0.0], # 2\n",
    "    [1.0, 0.0], # 2\n",
    "    [0.0, 0.0], # 3\n",
    "    [0.0, 1.0]  # 0\n",
    "], dtype=np.float32)"
   ]
  },
  {
   "cell_type": "markdown",
   "metadata": {},
   "source": [
    "Then, we add the `StaticMeshComponent` specifying a name, we chose \"triangle\" in this case.\n",
    "\n",
    "Then, we specify in an array all the vertex data, in our case we have the vertices and texture coordinates that we created above."
   ]
  },
  {
   "cell_type": "code",
   "execution_count": 10,
   "metadata": {},
   "outputs": [
    {
     "data": {
      "text/plain": [
       "<pyGandalf.scene.components.StaticMeshComponent at 0x26577957d00>"
      ]
     },
     "execution_count": 10,
     "metadata": {},
     "output_type": "execute_result"
    }
   ],
   "source": [
    "scene.add_component(quad, StaticMeshComponent('quad', [vertices, texture_coords]))"
   ]
  },
  {
   "cell_type": "markdown",
   "metadata": {},
   "source": [
    "The last component that we need in our example is the `MaterialComponent`.\n",
    "\n",
    "We just have to give the name of the material we have built before, i.e.: \"M_Unlit\"."
   ]
  },
  {
   "cell_type": "code",
   "execution_count": 11,
   "metadata": {},
   "outputs": [
    {
     "data": {
      "text/plain": [
       "<pyGandalf.scene.components.MaterialComponent at 0x26550b237f0>"
      ]
     },
     "execution_count": 11,
     "metadata": {},
     "output_type": "execute_result"
    }
   ],
   "source": [
    "scene.add_component(quad, MaterialComponent('M_UnlitTextured'))"
   ]
  },
  {
   "cell_type": "markdown",
   "metadata": {},
   "source": [
    "Now that we have the components added to the entities, we have to register systems that we are gonna use to the scene.\n",
    "In this example we are using two systems:\n",
    "- `TransformSystem`\n",
    "- `OpenGLStaticMeshRenderingSystem`\n",
    "\n",
    "When creating a system we have to provide to the constructor an array that holds the component(s) that the system operates on.\n",
    "\n",
    "Then the system uses these component(s) to filter all the entities that have them.\n",
    "- For example, the `TransformSystem` operates on all the entities that have a `TransformComponent`, similarly the `OpenGLStaticMeshRenderingSystem` operates on all the entities that have a `StaticMeshComponent`, a `MaterialComponent` and a `TransformComponent`.\n",
    "\n",
    "We can register them to the scene by calling the `register_system` method."
   ]
  },
  {
   "cell_type": "code",
   "execution_count": 12,
   "metadata": {},
   "outputs": [],
   "source": [
    "scene.register_system(TransformSystem([TransformComponent]))\n",
    "scene.register_system(OpenGLStaticMeshRenderingSystem([StaticMeshComponent, MaterialComponent, TransformComponent]))"
   ]
  },
  {
   "cell_type": "markdown",
   "metadata": {},
   "source": [
    "Now that our scene has all the entites, components and systems added we can add it to the `SceneManager` by calling the `add_scene` method."
   ]
  },
  {
   "cell_type": "code",
   "execution_count": 13,
   "metadata": {},
   "outputs": [],
   "source": [
    "SceneManager().add_scene(scene)"
   ]
  },
  {
   "cell_type": "markdown",
   "metadata": {},
   "source": [
    "Finally, we can start the `Application` by calling the `start` method."
   ]
  },
  {
   "cell_type": "code",
   "execution_count": 14,
   "metadata": {},
   "outputs": [],
   "source": [
    "Application().start()"
   ]
  }
 ],
 "metadata": {
  "kernelspec": {
   "display_name": "pyGandalf-venv",
   "language": "python",
   "name": "python3"
  },
  "language_info": {
   "codemirror_mode": {
    "name": "ipython",
    "version": 3
   },
   "file_extension": ".py",
   "mimetype": "text/x-python",
   "name": "python",
   "nbconvert_exporter": "python",
   "pygments_lexer": "ipython3",
   "version": "3.10.11"
  }
 },
 "nbformat": 4,
 "nbformat_minor": 2
}
